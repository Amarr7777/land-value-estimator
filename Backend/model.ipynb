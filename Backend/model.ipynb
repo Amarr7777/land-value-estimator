{
  "nbformat": 4,
  "nbformat_minor": 0,
  "metadata": {
    "colab": {
      "provenance": []
    },
    "kernelspec": {
      "name": "python3",
      "display_name": "Python 3"
    },
    "language_info": {
      "name": "python"
    }
  },
  "cells": [
    {
      "cell_type": "code",
      "execution_count": 1,
      "metadata": {
        "colab": {
          "base_uri": "https://localhost:8080/"
        },
        "id": "1dBpLuD3dk6D",
        "outputId": "69ec49e2-fb6f-4af6-8703-38e12e4920da"
      },
      "outputs": [
        {
          "output_type": "stream",
          "name": "stdout",
          "text": [
            "<class 'pandas.core.frame.DataFrame'>\n",
            "RangeIndex: 471 entries, 0 to 470\n",
            "Data columns (total 4 columns):\n",
            " #   Column         Non-Null Count  Dtype  \n",
            "---  ------         --------------  -----  \n",
            " 0   survey_number  471 non-null    int64  \n",
            " 1   fair_value     471 non-null    object \n",
            " 2   land_type      471 non-null    object \n",
            " 3   market_value   471 non-null    float64\n",
            "dtypes: float64(1), int64(1), object(2)\n",
            "memory usage: 14.8+ KB\n",
            "-0.03587228095340711 , 0.7393872445388711\n"
          ]
        },
        {
          "output_type": "stream",
          "name": "stderr",
          "text": [
            "/usr/local/lib/python3.10/dist-packages/sklearn/model_selection/_validation.py:378: FitFailedWarning: \n",
            "5 fits failed out of a total of 50.\n",
            "The score on these train-test partitions for these parameters will be set to nan.\n",
            "If these failures are not expected, you can try to debug them by setting error_score='raise'.\n",
            "\n",
            "Below are more details about the failures:\n",
            "--------------------------------------------------------------------------------\n",
            "5 fits failed with the following error:\n",
            "Traceback (most recent call last):\n",
            "  File \"/usr/local/lib/python3.10/dist-packages/sklearn/model_selection/_validation.py\", line 686, in _fit_and_score\n",
            "    estimator.fit(X_train, y_train, **fit_params)\n",
            "  File \"/usr/local/lib/python3.10/dist-packages/sklearn/ensemble/_forest.py\", line 340, in fit\n",
            "    self._validate_params()\n",
            "  File \"/usr/local/lib/python3.10/dist-packages/sklearn/base.py\", line 600, in _validate_params\n",
            "    validate_parameter_constraints(\n",
            "  File \"/usr/local/lib/python3.10/dist-packages/sklearn/utils/_param_validation.py\", line 97, in validate_parameter_constraints\n",
            "    raise InvalidParameterError(\n",
            "sklearn.utils._param_validation.InvalidParameterError: The 'max_depth' parameter of RandomForestRegressor must be an int in the range [1, inf) or None. Got 0 instead.\n",
            "\n",
            "  warnings.warn(some_fits_failed_message, FitFailedWarning)\n",
            "/usr/local/lib/python3.10/dist-packages/sklearn/model_selection/_search.py:952: UserWarning: One or more of the test scores are non-finite: [-0.03546247 -0.03153463         nan -0.01258431 -0.00790258 -0.08262445\n",
            " -0.06561783 -0.01925907 -0.08214606 -0.01879329]\n",
            "  warnings.warn(\n"
          ]
        },
        {
          "output_type": "execute_result",
          "data": {
            "text/plain": [
              "{'n_estimators': 200,\n",
              " 'max_samples': 0.75,\n",
              " 'max_features': 'log2',\n",
              " 'max_depth': 1,\n",
              " 'criterion': 'friedman_mse'}"
            ]
          },
          "metadata": {},
          "execution_count": 1
        }
      ],
      "source": [
        "import numpy as np\n",
        "import pandas as pd\n",
        "import plotly.graph_objects as go\n",
        "\n",
        "from sklearn.preprocessing import StandardScaler\n",
        "from sklearn.model_selection import train_test_split\n",
        "from sklearn.ensemble import RandomForestRegressor\n",
        "from sklearn.metrics import r2_score\n",
        "from sklearn.model_selection import RandomizedSearchCV\n",
        "\n",
        "df = pd.read_csv('/content/land_value_data.csv')\n",
        "\n",
        "df.drop(columns=['DOC_NUM', 'Village', 'Unnamed: 8', 'old sub_division_number',\n",
        "                 'Unnamed: 10', 'Unnamed: 11', 'Unnamed: 12', 'Unnamed: 13', 'Unnamed: 14'], inplace=True)\n",
        "\n",
        "df.drop(columns=['document_amount', 'extent'], inplace=True)\n",
        "\n",
        "df.info()\n",
        "\n",
        "df.loc[df['fair_value'] == 'Null', 'fair_value'] = np.nan\n",
        "\n",
        "df.loc[df['land_type'] == 'Null', 'land_type'] = np.nan\n",
        "\n",
        "df.isnull().sum()\n",
        "\n",
        "df.shape\n",
        "\n",
        "df['land_type'].value_counts()\n",
        "\n",
        "df.loc[df['land_type'].isin(['\\tResidential Plot with Corp./Mun./Panch. road access',\n",
        "                             'Residential Plot with Corp./Mun./Panch. road access']), 'land_type'] = 'Residential Plot with Corp./Mun./Panch. road access'\n",
        "\n",
        "df.loc[df['land_type'].isin(['Residential Plot without vehicular access\\t',\n",
        "                             '\\tResidential Plot without vehicular access']), 'land_type'] = 'Residential Plot without vehicular access'\n",
        "\n",
        "df.loc[df['land_type'].isin(['\\tWet land', 'Wet land\\t', 'Wet Land']), 'land_type'] = 'Wet land'\n",
        "\n",
        "df.loc[df['land_type'].isin(['Garden Land without road access\\t']), 'land_type'] = 'Garden Land without road access'\n",
        "\n",
        "df.loc[df['land_type'] == '\\tResidential Plot with NH/PWD road access', 'land_type'] = 'Residential Plot with NH/PWD road access'\n",
        "\n",
        "df.loc[df['land_type'] == '\\tCommercially important Plot', 'land_type'] = 'Commercially important Plot'\n",
        "\n",
        "df.loc[df['land_type'] == '\\tWater logged land', 'land_type'] = 'Water logged land'\n",
        "\n",
        "df['land_type'].value_counts()\n",
        "\n",
        "# Data type conversion\n",
        "\n",
        "df['fair_value'] = df['fair_value'].astype('float64')\n",
        "\n",
        "# Missing value imputation\n",
        "\n",
        "df['fair_value'].fillna(df['fair_value'].mean(), inplace=True)\n",
        "\n",
        "df['land_type'].fillna('Residential Plot without vehicular access', inplace=True)\n",
        "\n",
        "df.describe()\n",
        "\n",
        "# Encoding categorical variable\n",
        "\n",
        "df = pd.get_dummies(df, drop_first=True)\n",
        "\n",
        "x = df.drop(columns=['market_value'])\n",
        "y = df['market_value']\n",
        "\n",
        "# Outlier detection and removal\n",
        "\n",
        "q1 = np.percentile(df['fair_value'], 25)\n",
        "q3 = np.percentile(df['fair_value'], 75)\n",
        "iqr = q3 - q1\n",
        "\n",
        "df['fair_value'] = np.where(df['fair_value'] > q3 + 1.5 * iqr,\n",
        "                            q3 + 1.5 * iqr,\n",
        "                            np.where(df['fair_value'] < q1 - 1.5 * iqr, q1 - 1.5 * iqr, df['fair_value']))\n",
        "\n",
        "\n",
        "# Train test split\n",
        "\n",
        "x_train, x_test, y_train, y_test = train_test_split(x, y, test_size=0.2, random_state=42)\n",
        "\n",
        "model2 = RandomForestRegressor()\n",
        "\n",
        "# Decision Tree fit\n",
        "\n",
        "model2.fit(x_train, y_train)\n",
        "\n",
        "pred_test = model2.predict(x_test)\n",
        "pred_train = model2.predict(x_train)\n",
        "\n",
        "print(f'{r2_score(y_test, pred_test)} , {r2_score(y_train, pred_train)}')\n",
        "\n",
        "params = {\n",
        "    'n_estimators': [20, 30, 40, 50, 60, 100, 120, 200, 500],\n",
        "    'criterion': [\"squared_error\", \"absolute_error\", \"friedman_mse\", \"poisson\"],\n",
        "    'max_depth': [val for val in range(0, 10)],\n",
        "    'max_samples': [0.25, 0.5, 0.75],\n",
        "    'max_features': [\"sqrt\", \"log2\", None]\n",
        "}\n",
        "\n",
        "grid = RandomizedSearchCV(model2, params, n_jobs=-1)\n",
        "\n",
        "grid.fit(x_train, y_train)\n",
        "\n",
        "grid.best_score_\n",
        "\n",
        "grid.best_params_\n"
      ]
    },
    {
      "cell_type": "code",
      "source": [
        "import pickle\n",
        "\n",
        "# Save the model\n",
        "with open('random_forest_model.pkl', 'wb') as file:\n",
        "    pickle.dump(model2, file)"
      ],
      "metadata": {
        "id": "D6TlaTFCl0ND"
      },
      "execution_count": 2,
      "outputs": []
    },
    {
      "cell_type": "code",
      "source": [
        "# Load the model\n",
        "with open('random_forest_model.pkl', 'rb') as file:\n",
        "    loaded_model = pickle.load(file)"
      ],
      "metadata": {
        "id": "ZPP92ygAmImP"
      },
      "execution_count": 3,
      "outputs": []
    },
    {
      "cell_type": "code",
      "source": [
        "survey_number = int(input(\"Enter survey number: \"))\n",
        "land_type = input(\"Enter land type: \")\n",
        "fair_value = float(input(\"Enter fair value: \"))\n",
        "\n",
        "# Define the decoding method\n",
        "def decode_land_type(land_type):\n",
        "    if land_type in ['\\tResidential Plot with Corp./Mun./Panch. road access',\n",
        "                     'Residential Plot with Corp./Mun./Panch. road access']:\n",
        "        return 'Residential Plot with Corp./Mun./Panch. road access'\n",
        "    elif land_type in ['Residential Plot without vehicular access\\t',\n",
        "                       '\\tResidential Plot without vehicular access']:\n",
        "        return 'Residential Plot without vehicular access'\n",
        "    elif land_type in ['\\tWet land', 'Wet land\\t', 'Wet Land']:\n",
        "        return 'Wet land'\n",
        "    elif land_type == 'Garden Land without road access\\t':\n",
        "        return 'Garden Land without road access'\n",
        "    elif land_type == '\\tResidential Plot with NH/PWD road access':\n",
        "        return 'Residential Plot with NH/PWD road access'\n",
        "    elif land_type == '\\tCommercially important Plot':\n",
        "        return 'Commercially important Plot'\n",
        "    elif land_type == '\\tWater logged land':\n",
        "        return 'Water logged land'\n",
        "    else:\n",
        "        return land_type\n",
        "\n",
        "# Decode land type\n",
        "land_type = decode_land_type(land_type)\n",
        "\n",
        "# Create DataFrame for user input\n",
        "user_input = pd.DataFrame({\n",
        "    'survey_number': [survey_number],\n",
        "    'land_type': [land_type],\n",
        "    'fair_value': [fair_value],\n",
        "})\n",
        "\n",
        "# Perform the conversion to encode categorical data\n",
        "user_input = pd.get_dummies(user_input, columns=[\"land_type\"])\n",
        "\n",
        "# Ensure that user input DataFrame has the same columns as the training data\n",
        "missing_cols = set(x.columns) - set(user_input.columns)\n",
        "for col in missing_cols:\n",
        "    user_input[col] = 0\n",
        "\n",
        "user_input = user_input[x.columns]\n",
        "\n",
        "# Make prediction using the model\n",
        "predicted_market_value = loaded_model.predict(user_input)\n",
        "print(\"Predicted Market Value:\", predicted_market_value[0])\n",
        "\n"
      ],
      "metadata": {
        "colab": {
          "base_uri": "https://localhost:8080/"
        },
        "id": "SYR6iH1md_nF",
        "outputId": "4228b0a2-2973-49e4-ce84-0b52a658ff4c"
      },
      "execution_count": null,
      "outputs": [
        {
          "output_type": "stream",
          "name": "stdout",
          "text": [
            "Enter survey number: 206\n",
            "Enter land type: wet land\n",
            "Enter fair value: 902942\n",
            "Predicted Market Value: 596307.626167081\n"
          ]
        }
      ]
    }
  ]
}